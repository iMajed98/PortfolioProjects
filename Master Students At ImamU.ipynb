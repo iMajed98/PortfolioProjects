{
 "cells": [
  {
   "cell_type": "code",
   "execution_count": 9,
   "id": "833800b2",
   "metadata": {},
   "outputs": [],
   "source": [
    "#import the libraries\n",
    "import pandas as pd\n",
    "import numpy as np\n",
    "import matplotlib \n",
    "import matplotlib.pyplot as plt\n",
    "plt.style.use('ggplot')\n",
    "from matplotlib.pyplot import figure \n",
    "import seaborn as sns\n",
    "\n",
    "%matplotlib inline \n",
    "matplotlib.rcParams['figure.figsize']= (12,8)\n"
   ]
  },
  {
   "cell_type": "code",
   "execution_count": 10,
   "id": "a4f5f7eb",
   "metadata": {},
   "outputs": [],
   "source": [
    "df = pd.read_csv(r'C:\\Users\\PCD\\Downloads\\Graduate.csv')"
   ]
  },
  {
   "cell_type": "code",
   "execution_count": 11,
   "id": "99395a56",
   "metadata": {},
   "outputs": [
    {
     "data": {
      "text/html": [
       "<div>\n",
       "<style scoped>\n",
       "    .dataframe tbody tr th:only-of-type {\n",
       "        vertical-align: middle;\n",
       "    }\n",
       "\n",
       "    .dataframe tbody tr th {\n",
       "        vertical-align: top;\n",
       "    }\n",
       "\n",
       "    .dataframe thead th {\n",
       "        text-align: right;\n",
       "    }\n",
       "</style>\n",
       "<table border=\"1\" class=\"dataframe\">\n",
       "  <thead>\n",
       "    <tr style=\"text-align: right;\">\n",
       "      <th></th>\n",
       "      <th>year</th>\n",
       "      <th>college</th>\n",
       "      <th>major</th>\n",
       "      <th>degree</th>\n",
       "      <th>gender</th>\n",
       "      <th>count</th>\n",
       "    </tr>\n",
       "  </thead>\n",
       "  <tbody>\n",
       "    <tr>\n",
       "      <th>0</th>\n",
       "      <td>1435-1436</td>\n",
       "      <td>أصول الدين</td>\n",
       "      <td>السنة وعلومها</td>\n",
       "      <td>الدكتوراه</td>\n",
       "      <td>أنثى</td>\n",
       "      <td>2</td>\n",
       "    </tr>\n",
       "    <tr>\n",
       "      <th>1</th>\n",
       "      <td>1435-1436</td>\n",
       "      <td>أصول الدين</td>\n",
       "      <td>السنة وعلومها</td>\n",
       "      <td>الدكتوراه</td>\n",
       "      <td>ذكر</td>\n",
       "      <td>5</td>\n",
       "    </tr>\n",
       "    <tr>\n",
       "      <th>2</th>\n",
       "      <td>1435-1436</td>\n",
       "      <td>أصول الدين</td>\n",
       "      <td>السنة وعلومها</td>\n",
       "      <td>الماجستير</td>\n",
       "      <td>أنثى</td>\n",
       "      <td>6</td>\n",
       "    </tr>\n",
       "    <tr>\n",
       "      <th>3</th>\n",
       "      <td>1435-1436</td>\n",
       "      <td>أصول الدين</td>\n",
       "      <td>العقيدة والمذاهب المعاصرة</td>\n",
       "      <td>الدكتوراه</td>\n",
       "      <td>أنثى</td>\n",
       "      <td>6</td>\n",
       "    </tr>\n",
       "    <tr>\n",
       "      <th>4</th>\n",
       "      <td>1435-1436</td>\n",
       "      <td>أصول الدين</td>\n",
       "      <td>العقيدة والمذاهب المعاصرة</td>\n",
       "      <td>الدكتوراه</td>\n",
       "      <td>ذكر</td>\n",
       "      <td>7</td>\n",
       "    </tr>\n",
       "  </tbody>\n",
       "</table>\n",
       "</div>"
      ],
      "text/plain": [
       "        year     college                      major     degree gender  count\n",
       "0  1435-1436  أصول الدين              السنة وعلومها  الدكتوراه   أنثى      2\n",
       "1  1435-1436  أصول الدين              السنة وعلومها  الدكتوراه    ذكر      5\n",
       "2  1435-1436  أصول الدين              السنة وعلومها  الماجستير   أنثى      6\n",
       "3  1435-1436  أصول الدين  العقيدة والمذاهب المعاصرة  الدكتوراه   أنثى      6\n",
       "4  1435-1436  أصول الدين  العقيدة والمذاهب المعاصرة  الدكتوراه    ذكر      7"
      ]
     },
     "execution_count": 11,
     "metadata": {},
     "output_type": "execute_result"
    }
   ],
   "source": [
    "# take a look at the first 5 rows from the data \n",
    "df.head()"
   ]
  },
  {
   "cell_type": "code",
   "execution_count": 12,
   "id": "8145c6b3",
   "metadata": {},
   "outputs": [
    {
     "name": "stdout",
     "output_type": "stream",
     "text": [
      "year - 0.0%\n",
      "college - 0.0%\n",
      "major - 0.0%\n",
      "degree - 0.0%\n",
      "gender - 0.0%\n",
      "count - 0.0%\n"
     ]
    }
   ],
   "source": [
    "# see if there is any missing data\n",
    "\n",
    "for col in df.columns:\n",
    "    pct_missing = np.mean(df[col].isnull())\n",
    "    print('{} - {}%'.format(col, pct_missing))"
   ]
  },
  {
   "cell_type": "code",
   "execution_count": 13,
   "id": "abbff698",
   "metadata": {},
   "outputs": [
    {
     "data": {
      "text/plain": [
       "year       object\n",
       "college    object\n",
       "major      object\n",
       "degree     object\n",
       "gender     object\n",
       "count       int64\n",
       "dtype: object"
      ]
     },
     "execution_count": 13,
     "metadata": {},
     "output_type": "execute_result"
    }
   ],
   "source": [
    "#checking the type \n",
    "df.dtypes"
   ]
  },
  {
   "cell_type": "code",
   "execution_count": 14,
   "id": "237adb89",
   "metadata": {},
   "outputs": [],
   "source": [
    "# Changing the Years into integer \n",
    "df['year'] = df['year'].astype(str).str[:4]"
   ]
  },
  {
   "cell_type": "code",
   "execution_count": 15,
   "id": "653ee7d5",
   "metadata": {},
   "outputs": [],
   "source": [
    "df['year']= df['year'].astype('int64')"
   ]
  },
  {
   "cell_type": "code",
   "execution_count": 16,
   "id": "77315c36",
   "metadata": {},
   "outputs": [
    {
     "data": {
      "text/html": [
       "<div>\n",
       "<style scoped>\n",
       "    .dataframe tbody tr th:only-of-type {\n",
       "        vertical-align: middle;\n",
       "    }\n",
       "\n",
       "    .dataframe tbody tr th {\n",
       "        vertical-align: top;\n",
       "    }\n",
       "\n",
       "    .dataframe thead th {\n",
       "        text-align: right;\n",
       "    }\n",
       "</style>\n",
       "<table border=\"1\" class=\"dataframe\">\n",
       "  <thead>\n",
       "    <tr style=\"text-align: right;\">\n",
       "      <th></th>\n",
       "      <th>year</th>\n",
       "      <th>college</th>\n",
       "      <th>major</th>\n",
       "      <th>degree</th>\n",
       "      <th>gender</th>\n",
       "      <th>count</th>\n",
       "    </tr>\n",
       "  </thead>\n",
       "  <tbody>\n",
       "    <tr>\n",
       "      <th>279</th>\n",
       "      <td>1438</td>\n",
       "      <td>العلوم الاجتماعية</td>\n",
       "      <td>التربية</td>\n",
       "      <td>الدبلوم العالي</td>\n",
       "      <td>أنثى</td>\n",
       "      <td>517</td>\n",
       "    </tr>\n",
       "    <tr>\n",
       "      <th>280</th>\n",
       "      <td>1438</td>\n",
       "      <td>العلوم الاجتماعية</td>\n",
       "      <td>التربية</td>\n",
       "      <td>الدبلوم العالي</td>\n",
       "      <td>ذكر</td>\n",
       "      <td>189</td>\n",
       "    </tr>\n",
       "    <tr>\n",
       "      <th>357</th>\n",
       "      <td>1441</td>\n",
       "      <td>الإعلام والاتصال</td>\n",
       "      <td>الإعلام المتخصص</td>\n",
       "      <td>الدبلوم العالي</td>\n",
       "      <td>ذكر</td>\n",
       "      <td>63</td>\n",
       "    </tr>\n",
       "    <tr>\n",
       "      <th>0</th>\n",
       "      <td>1435</td>\n",
       "      <td>أصول الدين</td>\n",
       "      <td>السنة وعلومها</td>\n",
       "      <td>الدكتوراه</td>\n",
       "      <td>أنثى</td>\n",
       "      <td>2</td>\n",
       "    </tr>\n",
       "    <tr>\n",
       "      <th>1</th>\n",
       "      <td>1435</td>\n",
       "      <td>أصول الدين</td>\n",
       "      <td>السنة وعلومها</td>\n",
       "      <td>الدكتوراه</td>\n",
       "      <td>ذكر</td>\n",
       "      <td>5</td>\n",
       "    </tr>\n",
       "  </tbody>\n",
       "</table>\n",
       "</div>"
      ],
      "text/plain": [
       "     year            college            major          degree gender  count\n",
       "279  1438  العلوم الاجتماعية          التربية  الدبلوم العالي   أنثى    517\n",
       "280  1438  العلوم الاجتماعية          التربية  الدبلوم العالي    ذكر    189\n",
       "357  1441   الإعلام والاتصال  الإعلام المتخصص  الدبلوم العالي    ذكر     63\n",
       "0    1435         أصول الدين    السنة وعلومها       الدكتوراه   أنثى      2\n",
       "1    1435         أصول الدين    السنة وعلومها       الدكتوراه    ذكر      5"
      ]
     },
     "execution_count": 16,
     "metadata": {},
     "output_type": "execute_result"
    }
   ],
   "source": [
    "df.sort_values(by=['degree','year'],inplace=False,ascending=True).head()"
   ]
  },
  {
   "cell_type": "code",
   "execution_count": 17,
   "id": "82ef1969",
   "metadata": {
    "scrolled": false
   },
   "outputs": [],
   "source": [
    "pd.set_option('display.max_rows',None)"
   ]
  },
  {
   "cell_type": "code",
   "execution_count": 18,
   "id": "bf893cad",
   "metadata": {},
   "outputs": [
    {
     "data": {
      "text/html": [
       "<div>\n",
       "<style scoped>\n",
       "    .dataframe tbody tr th:only-of-type {\n",
       "        vertical-align: middle;\n",
       "    }\n",
       "\n",
       "    .dataframe tbody tr th {\n",
       "        vertical-align: top;\n",
       "    }\n",
       "\n",
       "    .dataframe thead th {\n",
       "        text-align: right;\n",
       "    }\n",
       "</style>\n",
       "<table border=\"1\" class=\"dataframe\">\n",
       "  <thead>\n",
       "    <tr style=\"text-align: right;\">\n",
       "      <th></th>\n",
       "      <th>year</th>\n",
       "      <th>college</th>\n",
       "      <th>major</th>\n",
       "      <th>degree</th>\n",
       "      <th>gender</th>\n",
       "      <th>count</th>\n",
       "    </tr>\n",
       "  </thead>\n",
       "  <tbody>\n",
       "    <tr>\n",
       "      <th>0</th>\n",
       "      <td>1435</td>\n",
       "      <td>أصول الدين</td>\n",
       "      <td>السنة وعلومها</td>\n",
       "      <td>الدكتوراه</td>\n",
       "      <td>أنثى</td>\n",
       "      <td>2</td>\n",
       "    </tr>\n",
       "    <tr>\n",
       "      <th>1</th>\n",
       "      <td>1435</td>\n",
       "      <td>أصول الدين</td>\n",
       "      <td>السنة وعلومها</td>\n",
       "      <td>الدكتوراه</td>\n",
       "      <td>ذكر</td>\n",
       "      <td>5</td>\n",
       "    </tr>\n",
       "    <tr>\n",
       "      <th>2</th>\n",
       "      <td>1435</td>\n",
       "      <td>أصول الدين</td>\n",
       "      <td>السنة وعلومها</td>\n",
       "      <td>الماجستير</td>\n",
       "      <td>أنثى</td>\n",
       "      <td>6</td>\n",
       "    </tr>\n",
       "    <tr>\n",
       "      <th>3</th>\n",
       "      <td>1435</td>\n",
       "      <td>أصول الدين</td>\n",
       "      <td>العقيدة والمذاهب المعاصرة</td>\n",
       "      <td>الدكتوراه</td>\n",
       "      <td>أنثى</td>\n",
       "      <td>6</td>\n",
       "    </tr>\n",
       "    <tr>\n",
       "      <th>4</th>\n",
       "      <td>1435</td>\n",
       "      <td>أصول الدين</td>\n",
       "      <td>العقيدة والمذاهب المعاصرة</td>\n",
       "      <td>الدكتوراه</td>\n",
       "      <td>ذكر</td>\n",
       "      <td>7</td>\n",
       "    </tr>\n",
       "  </tbody>\n",
       "</table>\n",
       "</div>"
      ],
      "text/plain": [
       "   year     college                      major     degree gender  count\n",
       "0  1435  أصول الدين              السنة وعلومها  الدكتوراه   أنثى      2\n",
       "1  1435  أصول الدين              السنة وعلومها  الدكتوراه    ذكر      5\n",
       "2  1435  أصول الدين              السنة وعلومها  الماجستير   أنثى      6\n",
       "3  1435  أصول الدين  العقيدة والمذاهب المعاصرة  الدكتوراه   أنثى      6\n",
       "4  1435  أصول الدين  العقيدة والمذاهب المعاصرة  الدكتوراه    ذكر      7"
      ]
     },
     "execution_count": 18,
     "metadata": {},
     "output_type": "execute_result"
    }
   ],
   "source": [
    "df.head()"
   ]
  },
  {
   "cell_type": "code",
   "execution_count": 19,
   "id": "a8e14b3e",
   "metadata": {
    "scrolled": false
   },
   "outputs": [
    {
     "data": {
      "text/plain": [
       "<function matplotlib.pyplot.show(close=None, block=None)>"
      ]
     },
     "execution_count": 19,
     "metadata": {},
     "output_type": "execute_result"
    },
    {
     "data": {
      "image/png": "[encoded data removed]",
      "text/plain": [
       "<Figure size 864x576 with 1 Axes>"
      ]
     },
     "metadata": {
      "needs_background": "light"
     },
     "output_type": "display_data"
    }
   ],
   "source": [
    "# Graph\n",
    "plt.scatter(x=df['degree'],y=df['count'])\n",
    "plt.title('degree vs number of students')\n",
    "plt.xlabel('degree')\n",
    "plt.ylabel('students number')\n",
    "plt.show"
   ]
  },
  {
   "cell_type": "code",
   "execution_count": 20,
   "id": "6faaaa64",
   "metadata": {},
   "outputs": [
    {
     "data": {
      "text/plain": [
       "array([1435, 1436, 1437, 1438, 1439, 1441, 1442], dtype=int64)"
      ]
     },
     "execution_count": 20,
     "metadata": {},
     "output_type": "execute_result"
    }
   ],
   "source": [
    "    #checking how many years are in the data\n",
    "    pd.unique(df['year'])"
   ]
  },
  {
   "cell_type": "code",
   "execution_count": 21,
   "id": "809e04ee",
   "metadata": {},
   "outputs": [],
   "source": [
    "degree_grp = df.groupby(['degree'])"
   ]
  },
  {
   "cell_type": "code",
   "execution_count": 23,
   "id": "855d82be",
   "metadata": {},
   "outputs": [
    {
     "data": {
      "text/html": [
       "<div>\n",
       "<style scoped>\n",
       "    .dataframe tbody tr th:only-of-type {\n",
       "        vertical-align: middle;\n",
       "    }\n",
       "\n",
       "    .dataframe tbody tr th {\n",
       "        vertical-align: top;\n",
       "    }\n",
       "\n",
       "    .dataframe thead th {\n",
       "        text-align: right;\n",
       "    }\n",
       "</style>\n",
       "<table border=\"1\" class=\"dataframe\">\n",
       "  <thead>\n",
       "    <tr style=\"text-align: right;\">\n",
       "      <th></th>\n",
       "      <th>year</th>\n",
       "      <th>college</th>\n",
       "      <th>major</th>\n",
       "      <th>degree</th>\n",
       "      <th>gender</th>\n",
       "      <th>count</th>\n",
       "    </tr>\n",
       "  </thead>\n",
       "  <tbody>\n",
       "    <tr>\n",
       "      <th>2</th>\n",
       "      <td>1435</td>\n",
       "      <td>أصول الدين</td>\n",
       "      <td>السنة وعلومها</td>\n",
       "      <td>الماجستير</td>\n",
       "      <td>أنثى</td>\n",
       "      <td>6</td>\n",
       "    </tr>\n",
       "    <tr>\n",
       "      <th>5</th>\n",
       "      <td>1435</td>\n",
       "      <td>أصول الدين</td>\n",
       "      <td>العقيدة والمذاهب المعاصرة</td>\n",
       "      <td>الماجستير</td>\n",
       "      <td>أنثى</td>\n",
       "      <td>10</td>\n",
       "    </tr>\n",
       "    <tr>\n",
       "      <th>6</th>\n",
       "      <td>1435</td>\n",
       "      <td>أصول الدين</td>\n",
       "      <td>العقيدة والمذاهب المعاصرة</td>\n",
       "      <td>الماجستير</td>\n",
       "      <td>ذكر</td>\n",
       "      <td>3</td>\n",
       "    </tr>\n",
       "    <tr>\n",
       "      <th>9</th>\n",
       "      <td>1435</td>\n",
       "      <td>أصول الدين</td>\n",
       "      <td>القرآن وعلومه</td>\n",
       "      <td>الماجستير</td>\n",
       "      <td>أنثى</td>\n",
       "      <td>9</td>\n",
       "    </tr>\n",
       "    <tr>\n",
       "      <th>10</th>\n",
       "      <td>1435</td>\n",
       "      <td>أصول الدين</td>\n",
       "      <td>القرآن وعلومه</td>\n",
       "      <td>الماجستير</td>\n",
       "      <td>ذكر</td>\n",
       "      <td>5</td>\n",
       "    </tr>\n",
       "  </tbody>\n",
       "</table>\n",
       "</div>"
      ],
      "text/plain": [
       "    year     college                      major     degree gender  count\n",
       "2   1435  أصول الدين              السنة وعلومها  الماجستير   أنثى      6\n",
       "5   1435  أصول الدين  العقيدة والمذاهب المعاصرة  الماجستير   أنثى     10\n",
       "6   1435  أصول الدين  العقيدة والمذاهب المعاصرة  الماجستير    ذكر      3\n",
       "9   1435  أصول الدين              القرآن وعلومه  الماجستير   أنثى      9\n",
       "10  1435  أصول الدين              القرآن وعلومه  الماجستير    ذكر      5"
      ]
     },
     "execution_count": 23,
     "metadata": {},
     "output_type": "execute_result"
    }
   ],
   "source": [
    "# Filtering \n",
    "degree_grp.get_group('الماجستير').head()"
   ]
  },
  {
   "cell_type": "code",
   "execution_count": 24,
   "id": "b1137b29",
   "metadata": {},
   "outputs": [
    {
     "data": {
      "text/plain": [
       "degree\n",
       "الدبلوم العالي                [العلوم الاجتماعية, الإعلام والاتصال]\n",
       "الدكتوراه         [أصول الدين, التربية, الشريعة, العلوم الاجتماع...\n",
       "الماجستير         [أصول الدين, الاقتصاد والعلوم الإدارية, التربي...\n",
       "Name: college, dtype: object"
      ]
     },
     "execution_count": 24,
     "metadata": {},
     "output_type": "execute_result"
    }
   ],
   "source": [
    "degree_grp['college'].unique()"
   ]
  },
  {
   "cell_type": "code",
   "execution_count": 25,
   "id": "ed64fd5c",
   "metadata": {},
   "outputs": [
    {
     "data": {
      "text/plain": [
       "49"
      ]
     },
     "execution_count": 25,
     "metadata": {},
     "output_type": "execute_result"
    }
   ],
   "source": [
    "np.size(df['major'].unique())"
   ]
  },
  {
   "cell_type": "code",
   "execution_count": 26,
   "id": "370e1885",
   "metadata": {},
   "outputs": [
    {
     "data": {
      "text/html": [
       "<div>\n",
       "<style scoped>\n",
       "    .dataframe tbody tr th:only-of-type {\n",
       "        vertical-align: middle;\n",
       "    }\n",
       "\n",
       "    .dataframe tbody tr th {\n",
       "        vertical-align: top;\n",
       "    }\n",
       "\n",
       "    .dataframe thead th {\n",
       "        text-align: right;\n",
       "    }\n",
       "</style>\n",
       "<table border=\"1\" class=\"dataframe\">\n",
       "  <thead>\n",
       "    <tr style=\"text-align: right;\">\n",
       "      <th></th>\n",
       "      <th>year</th>\n",
       "      <th>college</th>\n",
       "      <th>major</th>\n",
       "      <th>degree</th>\n",
       "      <th>gender</th>\n",
       "      <th>count</th>\n",
       "    </tr>\n",
       "  </thead>\n",
       "  <tbody>\n",
       "    <tr>\n",
       "      <th>2</th>\n",
       "      <td>1435</td>\n",
       "      <td>أصول الدين</td>\n",
       "      <td>السنة وعلومها</td>\n",
       "      <td>الماجستير</td>\n",
       "      <td>أنثى</td>\n",
       "      <td>6</td>\n",
       "    </tr>\n",
       "    <tr>\n",
       "      <th>5</th>\n",
       "      <td>1435</td>\n",
       "      <td>أصول الدين</td>\n",
       "      <td>العقيدة والمذاهب المعاصرة</td>\n",
       "      <td>الماجستير</td>\n",
       "      <td>أنثى</td>\n",
       "      <td>10</td>\n",
       "    </tr>\n",
       "    <tr>\n",
       "      <th>9</th>\n",
       "      <td>1435</td>\n",
       "      <td>أصول الدين</td>\n",
       "      <td>القرآن وعلومه</td>\n",
       "      <td>الماجستير</td>\n",
       "      <td>أنثى</td>\n",
       "      <td>9</td>\n",
       "    </tr>\n",
       "    <tr>\n",
       "      <th>11</th>\n",
       "      <td>1435</td>\n",
       "      <td>الاقتصاد والعلوم الإدارية</td>\n",
       "      <td>الاقتصاد</td>\n",
       "      <td>الماجستير</td>\n",
       "      <td>أنثى</td>\n",
       "      <td>15</td>\n",
       "    </tr>\n",
       "    <tr>\n",
       "      <th>15</th>\n",
       "      <td>1435</td>\n",
       "      <td>التربية</td>\n",
       "      <td>أصول التربية</td>\n",
       "      <td>الماجستير</td>\n",
       "      <td>أنثى</td>\n",
       "      <td>7</td>\n",
       "    </tr>\n",
       "  </tbody>\n",
       "</table>\n",
       "</div>"
      ],
      "text/plain": [
       "    year                    college                      major     degree  \\\n",
       "2   1435                 أصول الدين              السنة وعلومها  الماجستير   \n",
       "5   1435                 أصول الدين  العقيدة والمذاهب المعاصرة  الماجستير   \n",
       "9   1435                 أصول الدين              القرآن وعلومه  الماجستير   \n",
       "11  1435  الاقتصاد والعلوم الإدارية                   الاقتصاد  الماجستير   \n",
       "15  1435                    التربية               أصول التربية  الماجستير   \n",
       "\n",
       "   gender  count  \n",
       "2    أنثى      6  \n",
       "5    أنثى     10  \n",
       "9    أنثى      9  \n",
       "11   أنثى     15  \n",
       "15   أنثى      7  "
      ]
     },
     "execution_count": 26,
     "metadata": {},
     "output_type": "execute_result"
    }
   ],
   "source": [
    "Male = df[(df['degree'] == \"الماجستير\") & (df['gender'] == 'ذكر')]\n",
    "Female = df[(df['degree'] == \"الماجستير\") & (df['gender'] == 'أنثى')]\n",
    "\n",
    "Female.head()\n",
    "\n"
   ]
  },
  {
   "cell_type": "code",
   "execution_count": 27,
   "id": "22b314f6",
   "metadata": {},
   "outputs": [
    {
     "data": {
      "text/plain": [
       "Text(0.5, 1.0, 'Number of Master Student each Year')"
      ]
     },
     "execution_count": 27,
     "metadata": {},
     "output_type": "execute_result"
    },
    {
     "data": {
      "image/png": "[encoded data removed]",
      "text/plain": [
       "<Figure size 864x576 with 1 Axes>"
      ]
     },
     "metadata": {},
     "output_type": "display_data"
    }
   ],
   "source": [
    "#Making Graphs\n",
    "Student_by_year = pd.DataFrame(df.groupby('year',as_index=False)['count'].sum())\n",
    "sns.set_theme(style='whitegrid',color_codes=True)\n",
    "ax=sns.barplot(x='year',y='count',data=Student_by_year.sort_values(by='year'),palette='Set2')\n",
    "ax.set_xlabel('Years',fontsize=30)\n",
    "ax.set_ylabel('Students',fontsize=30)\n",
    "plt.xticks(rotation=75)\n",
    "plt.rcParams['figure.figsize'] = (20,8)\n",
    "plt.title('Number of Master Student each Year',fontsize = 20)"
   ]
  },
  {
   "cell_type": "code",
   "execution_count": 28,
   "id": "766fc34f",
   "metadata": {
    "scrolled": false
   },
   "outputs": [
    {
     "data": {
      "text/plain": [
       "Text(0.5, 1.0, 'Number of Master Student each College')"
      ]
     },
     "execution_count": 28,
     "metadata": {},
     "output_type": "execute_result"
    },
    {
     "data": {
      "image/png": "[encoded data removed]",
      "text/plain": [
       "<Figure size 1440x576 with 1 Axes>"
      ]
     },
     "metadata": {},
     "output_type": "display_data"
    }
   ],
   "source": [
    "Student_by_college = pd.DataFrame(df.groupby('college',as_index=False)['count'].sum())\n",
    "sns.set_theme(style='whitegrid',color_codes=True)\n",
    "ax=sns.barplot(x='college',y='count',data=Student_by_college.sort_values(by='count'),palette='rocket')\n",
    "ax.set_xlabel('College',fontsize=30)\n",
    "ax.set_ylabel('Students',fontsize=20)\n",
    "plt.xticks(rotation=75)\n",
    "plt.rcParams['figure.figsize'] = (20,8)\n",
    "plt.title('Number of Master Student each College',fontsize = 20)"
   ]
  },
  {
   "cell_type": "code",
   "execution_count": 31,
   "id": "c39ade4f",
   "metadata": {},
   "outputs": [],
   "source": [
    "Male_count = Male['count'].sum()\n",
    "Female_count = Female['count'].sum()\n",
    "y = np.array([Male_count,Female_count])"
   ]
  },
  {
   "cell_type": "code",
   "execution_count": 30,
   "id": "f9dec1a3",
   "metadata": {},
   "outputs": [
    {
     "data": {
      "text/plain": [
       "<function matplotlib.pyplot.show(close=None, block=None)>"
      ]
     },
     "execution_count": 30,
     "metadata": {},
     "output_type": "execute_result"
    },
    {
     "data": {
      "image/png": "[encoded data removed]",
      "text/plain": [
       "<Figure size 1440x576 with 1 Axes>"
      ]
     },
     "metadata": {},
     "output_type": "display_data"
    }
   ],
   "source": [
    "\n",
    "Labels = ['Male','Female']\n",
    "the_colors = ['royalblue','pink']\n",
    "plt.pie(y,labels = Labels,autopct='%1.1f%%',colors=the_colors)\n",
    "plt.title('Male Vs Female ',fontsize=20)\n",
    "plt.axis('equal')\n",
    "plt.show"
   ]
  }
 ],
 "metadata": {
  "kernelspec": {
   "display_name": "Python 3 (ipykernel)",
   "language": "python",
   "name": "python3"
  },
  "language_info": {
   "codemirror_mode": {
    "name": "ipython",
    "version": 3
   },
   "file_extension": ".py",
   "mimetype": "text/x-python",
   "name": "python",
   "nbconvert_exporter": "python",
   "pygments_lexer": "ipython3",
   "version": "3.9.7"
  }
 },
 "nbformat": 4,
 "nbformat_minor": 5
}
